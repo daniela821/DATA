{
  "cells": [
    {
      "cell_type": "markdown",
      "metadata": {
        "id": "view-in-github",
        "colab_type": "text"
      },
      "source": [
        "<a href=\"https://colab.research.google.com/github/daniela821/DATA/blob/main/DANIELA_MIHAI_229034.ipynb\" target=\"_parent\"><img src=\"https://colab.research.google.com/assets/colab-badge.svg\" alt=\"Open In Colab\"/></a>"
      ]
    },
    {
      "cell_type": "code",
      "source": [
        "import pandas as pd\n",
        "import numpy as np\n",
        "import matplotlib.pyplot as plt\n",
        "import seaborn as sns\n",
        "from google.colab import drive\n",
        "from sklearn.model_selection import train_test_split\n",
        "from sklearn.preprocessing import StandardScaler\n",
        "from keras.models import Sequential\n",
        "from keras.layers import Dense\n",
        "\n",
        "drive.mount('/content/drive')\n",
        "\n",
        "file_path = '/content/drive/MyDrive/MIHAI_DANIELA_229034/HDHI Admission data.csv'\n",
        "df = pd.read_csv(file_path)\n",
        "print(df)\n"
      ],
      "metadata": {
        "colab": {
          "base_uri": "https://localhost:8080/"
        },
        "id": "bPVg5OqVxMgM",
        "outputId": "6ac2319d-26db-4afe-984b-36d7786ab66e"
      },
      "execution_count": 262,
      "outputs": [
        {
          "output_type": "stream",
          "name": "stdout",
          "text": [
            "Drive already mounted at /content/drive; to attempt to forcibly remount, call drive.mount(\"/content/drive\", force_remount=True).\n",
            "         SNO MRD No.       D.O.A       D.O.D  AGE GENDER RURAL  \\\n",
            "0          1  234735    4/1/2017    4/3/2017   81      M     R   \n",
            "1          2  234696    4/1/2017    4/5/2017   65      M     R   \n",
            "2          3  234882    4/1/2017    4/3/2017   53      M     U   \n",
            "3          4  234635    4/1/2017    4/8/2017   67      F     U   \n",
            "4          5  234486    4/1/2017   4/23/2017   60      F     U   \n",
            "...      ...     ...         ...         ...  ...    ...   ...   \n",
            "15752  15753  699585  31/03/2019  04/04/2019   86      F     U   \n",
            "15753  15754  699500   3/31/2019    4/1/2019   50      M     R   \n",
            "15754  15755  700415  31/03/2019  09/04/2019   82      M     U   \n",
            "15755  15756  699524  31/03/2019  03/04/2019   59      F     U   \n",
            "15756  15757  699524  31/03/2019  03/04/2019   59      F     U   \n",
            "\n",
            "      TYPE OF ADMISSION-EMERGENCY/OPD month year  DURATION OF STAY  ...  \\\n",
            "0                                   E     Apr-17                 3  ...   \n",
            "1                                   E     Apr-17                 5  ...   \n",
            "2                                   E     Apr-17                 3  ...   \n",
            "3                                   E     Apr-17                 8  ...   \n",
            "4                                   E     Apr-17                23  ...   \n",
            "...                               ...        ...               ...  ...   \n",
            "15752                               O     Mar-19                 5  ...   \n",
            "15753                               E     Mar-19                 2  ...   \n",
            "15754                               E     Mar-19                10  ...   \n",
            "15755                               O     Mar-19                 4  ...   \n",
            "15756                               O     Mar-19                 4  ...   \n",
            "\n",
            "       CONGENITAL UTI  NEURO CARDIOGENIC SYNCOPE  ORTHOSTATIC  \\\n",
            "0               0   0                          0            0   \n",
            "1               0   0                          0            0   \n",
            "2               0   0                          0            0   \n",
            "3               0   0                          0            0   \n",
            "4               0   0                          0            0   \n",
            "...           ...  ..                        ...          ...   \n",
            "15752           0   0                          0            0   \n",
            "15753           0   0                          0            0   \n",
            "15754           0   0                          0            0   \n",
            "15755           0   0                          0            0   \n",
            "15756           0   0                          0            0   \n",
            "\n",
            "       INFECTIVE ENDOCARDITIS  DVT  CARDIOGENIC SHOCK  SHOCK  \\\n",
            "0                           0    0                  0      0   \n",
            "1                           0    0                  0      0   \n",
            "2                           0    0                  0      0   \n",
            "3                           0    0                  0      0   \n",
            "4                           0    0                  0      0   \n",
            "...                       ...  ...                ...    ...   \n",
            "15752                       0    0                  0      0   \n",
            "15753                       0    0                  0      0   \n",
            "15754                       0    0                  0      0   \n",
            "15755                       0    0                  0      0   \n",
            "15756                       0    0                  0      0   \n",
            "\n",
            "       PULMONARY EMBOLISM CHEST INFECTION  \n",
            "0                       0               0  \n",
            "1                       0               0  \n",
            "2                       0               0  \n",
            "3                       0               0  \n",
            "4                       0               0  \n",
            "...                   ...             ...  \n",
            "15752                   0               0  \n",
            "15753                   0               0  \n",
            "15754                   0               0  \n",
            "15755                   0               0  \n",
            "15756                   0               0  \n",
            "\n",
            "[15757 rows x 56 columns]\n"
          ]
        }
      ]
    },
    {
      "cell_type": "code",
      "source": [
        "tipo_dato = df['OUTCOME'].dtype\n",
        "print(tipo_dato)\n"
      ],
      "metadata": {
        "colab": {
          "base_uri": "https://localhost:8080/"
        },
        "id": "dGLZdaY0xPRS",
        "outputId": "0db44a79-2694-4cd5-f887-32752d6899f8"
      },
      "execution_count": 263,
      "outputs": [
        {
          "output_type": "stream",
          "name": "stdout",
          "text": [
            "object\n"
          ]
        }
      ]
    },
    {
      "cell_type": "code",
      "source": [
        "outcome = df['OUTCOME'].to_numpy()\n",
        "print(outcome)\n"
      ],
      "metadata": {
        "colab": {
          "base_uri": "https://localhost:8080/"
        },
        "id": "waXFXll-xRyO",
        "outputId": "b4bef566-9df9-4c60-dde8-047590f5a5b5"
      },
      "execution_count": 264,
      "outputs": [
        {
          "output_type": "stream",
          "name": "stdout",
          "text": [
            "['DISCHARGE' 'DISCHARGE' 'DISCHARGE' ... 'DISCHARGE' 'DISCHARGE'\n",
            " 'DISCHARGE']\n"
          ]
        }
      ]
    },
    {
      "cell_type": "code",
      "source": [
        "#per trasformare i dati in numeri \n",
        "df[\"GENDER\"][df[\"GENDER\"]==\"M\"] = 1\n",
        "df[\"GENDER\"][df[\"GENDER\"]==\"F\"] = 0\n",
        "df[\"OUTCOME\"][df[\"OUTCOME\"]==\"DISCHARGE\"] = 0\n",
        "df[\"OUTCOME\"][df[\"OUTCOME\"]==\"EXPIRY\"] = 1\n",
        "df[\"OUTCOME\"][df[\"OUTCOME\"]==\"DAMA\"] = 2\n",
        "df[\"RURAL\"][df[\"RURAL\"]==\"R\"] = 0\n",
        "df[\"RURAL\"][df[\"RURAL\"]==\"U\"] = 1\n",
        "df.loc[df[\"TYPE OF ADMISSION-EMERGENCY/OPD\"]==\"E\", \"TYPE OF ADMISSION-EMERGENCY/OPD\"] = 0\n",
        "df.loc[df[\"TYPE OF ADMISSION-EMERGENCY/OPD\"]==\"O\", \"TYPE OF ADMISSION-EMERGENCY/OPD\"] = 1\n"
      ],
      "metadata": {
        "colab": {
          "base_uri": "https://localhost:8080/"
        },
        "id": "UwUDkAauxUKX",
        "outputId": "b6fc1183-272a-4321-ee1d-eeb089bcd748"
      },
      "execution_count": 265,
      "outputs": [
        {
          "output_type": "stream",
          "name": "stderr",
          "text": [
            "<ipython-input-265-2b9915e68e94>:2: SettingWithCopyWarning: \n",
            "A value is trying to be set on a copy of a slice from a DataFrame\n",
            "\n",
            "See the caveats in the documentation: https://pandas.pydata.org/pandas-docs/stable/user_guide/indexing.html#returning-a-view-versus-a-copy\n",
            "  df[\"GENDER\"][df[\"GENDER\"]==\"M\"] = 1\n",
            "<ipython-input-265-2b9915e68e94>:3: SettingWithCopyWarning: \n",
            "A value is trying to be set on a copy of a slice from a DataFrame\n",
            "\n",
            "See the caveats in the documentation: https://pandas.pydata.org/pandas-docs/stable/user_guide/indexing.html#returning-a-view-versus-a-copy\n",
            "  df[\"GENDER\"][df[\"GENDER\"]==\"F\"] = 0\n",
            "<ipython-input-265-2b9915e68e94>:4: SettingWithCopyWarning: \n",
            "A value is trying to be set on a copy of a slice from a DataFrame\n",
            "\n",
            "See the caveats in the documentation: https://pandas.pydata.org/pandas-docs/stable/user_guide/indexing.html#returning-a-view-versus-a-copy\n",
            "  df[\"OUTCOME\"][df[\"OUTCOME\"]==\"DISCHARGE\"] = 0\n",
            "<ipython-input-265-2b9915e68e94>:5: SettingWithCopyWarning: \n",
            "A value is trying to be set on a copy of a slice from a DataFrame\n",
            "\n",
            "See the caveats in the documentation: https://pandas.pydata.org/pandas-docs/stable/user_guide/indexing.html#returning-a-view-versus-a-copy\n",
            "  df[\"OUTCOME\"][df[\"OUTCOME\"]==\"EXPIRY\"] = 1\n",
            "<ipython-input-265-2b9915e68e94>:6: SettingWithCopyWarning: \n",
            "A value is trying to be set on a copy of a slice from a DataFrame\n",
            "\n",
            "See the caveats in the documentation: https://pandas.pydata.org/pandas-docs/stable/user_guide/indexing.html#returning-a-view-versus-a-copy\n",
            "  df[\"OUTCOME\"][df[\"OUTCOME\"]==\"DAMA\"] = 2\n",
            "<ipython-input-265-2b9915e68e94>:7: SettingWithCopyWarning: \n",
            "A value is trying to be set on a copy of a slice from a DataFrame\n",
            "\n",
            "See the caveats in the documentation: https://pandas.pydata.org/pandas-docs/stable/user_guide/indexing.html#returning-a-view-versus-a-copy\n",
            "  df[\"RURAL\"][df[\"RURAL\"]==\"R\"] = 0\n",
            "<ipython-input-265-2b9915e68e94>:8: SettingWithCopyWarning: \n",
            "A value is trying to be set on a copy of a slice from a DataFrame\n",
            "\n",
            "See the caveats in the documentation: https://pandas.pydata.org/pandas-docs/stable/user_guide/indexing.html#returning-a-view-versus-a-copy\n",
            "  df[\"RURAL\"][df[\"RURAL\"]==\"U\"] = 1\n"
          ]
        }
      ]
    },
    {
      "cell_type": "code",
      "source": [
        "df.columns"
      ],
      "metadata": {
        "colab": {
          "base_uri": "https://localhost:8080/"
        },
        "id": "kjjODuIrxkt6",
        "outputId": "73a2da3b-0bc5-45f1-cff2-fcee69a294ae"
      },
      "execution_count": 266,
      "outputs": [
        {
          "output_type": "execute_result",
          "data": {
            "text/plain": [
              "Index(['SNO', 'MRD No.', 'D.O.A', 'D.O.D', 'AGE', 'GENDER', 'RURAL',\n",
              "       'TYPE OF ADMISSION-EMERGENCY/OPD', 'month year', 'DURATION OF STAY',\n",
              "       'duration of intensive unit stay', 'OUTCOME', 'SMOKING ', 'ALCOHOL',\n",
              "       'DM', 'HTN', 'CAD', 'PRIOR CMP', 'CKD', 'HB', 'TLC', 'PLATELETS',\n",
              "       'GLUCOSE', 'UREA', 'CREATININE', 'BNP', 'RAISED CARDIAC ENZYMES', 'EF',\n",
              "       'SEVERE ANAEMIA', 'ANAEMIA', 'STABLE ANGINA', 'ACS', 'STEMI',\n",
              "       'ATYPICAL CHEST PAIN', 'HEART FAILURE', 'HFREF', 'HFNEF', 'VALVULAR',\n",
              "       'CHB', 'SSS', 'AKI', 'CVA INFRACT', 'CVA BLEED', 'AF', 'VT', 'PSVT',\n",
              "       'CONGENITAL', 'UTI', 'NEURO CARDIOGENIC SYNCOPE', 'ORTHOSTATIC',\n",
              "       'INFECTIVE ENDOCARDITIS', 'DVT', 'CARDIOGENIC SHOCK', 'SHOCK',\n",
              "       'PULMONARY EMBOLISM', 'CHEST INFECTION'],\n",
              "      dtype='object')"
            ]
          },
          "metadata": {},
          "execution_count": 266
        }
      ]
    },
    {
      "cell_type": "code",
      "source": [
        "# Drop the columns\n",
        "df.drop(columns=['SNO', 'MRD No.', 'D.O.A', 'D.O.D', 'month year'], inplace=True)\n",
        "\n",
        "print(df['RURAL'].value_counts())\n",
        "print(df['TYPE OF ADMISSION-EMERGENCY/OPD'].value_counts())\n",
        "print(df['OUTCOME'].value_counts())\n",
        "\n",
        "df.columns"
      ],
      "metadata": {
        "colab": {
          "base_uri": "https://localhost:8080/"
        },
        "id": "biMUXffQz3IE",
        "outputId": "e216dc9d-7bd1-468a-eea6-3774f996cd9c"
      },
      "execution_count": 267,
      "outputs": [
        {
          "output_type": "stream",
          "name": "stdout",
          "text": [
            "1    12077\n",
            "0     3680\n",
            "Name: RURAL, dtype: int64\n",
            "0    10924\n",
            "1     4833\n",
            "Name: TYPE OF ADMISSION-EMERGENCY/OPD, dtype: int64\n",
            "0    13756\n",
            "1     1105\n",
            "2      896\n",
            "Name: OUTCOME, dtype: int64\n"
          ]
        },
        {
          "output_type": "execute_result",
          "data": {
            "text/plain": [
              "Index(['AGE', 'GENDER', 'RURAL', 'TYPE OF ADMISSION-EMERGENCY/OPD',\n",
              "       'DURATION OF STAY', 'duration of intensive unit stay', 'OUTCOME',\n",
              "       'SMOKING ', 'ALCOHOL', 'DM', 'HTN', 'CAD', 'PRIOR CMP', 'CKD', 'HB',\n",
              "       'TLC', 'PLATELETS', 'GLUCOSE', 'UREA', 'CREATININE', 'BNP',\n",
              "       'RAISED CARDIAC ENZYMES', 'EF', 'SEVERE ANAEMIA', 'ANAEMIA',\n",
              "       'STABLE ANGINA', 'ACS', 'STEMI', 'ATYPICAL CHEST PAIN', 'HEART FAILURE',\n",
              "       'HFREF', 'HFNEF', 'VALVULAR', 'CHB', 'SSS', 'AKI', 'CVA INFRACT',\n",
              "       'CVA BLEED', 'AF', 'VT', 'PSVT', 'CONGENITAL', 'UTI',\n",
              "       'NEURO CARDIOGENIC SYNCOPE', 'ORTHOSTATIC', 'INFECTIVE ENDOCARDITIS',\n",
              "       'DVT', 'CARDIOGENIC SHOCK', 'SHOCK', 'PULMONARY EMBOLISM',\n",
              "       'CHEST INFECTION'],\n",
              "      dtype='object')"
            ]
          },
          "metadata": {},
          "execution_count": 267
        }
      ]
    },
    {
      "cell_type": "code",
      "source": [
        "\n",
        "\n",
        "print(df['RURAL'].value_counts())\n",
        "print(df['TYPE OF ADMISSION-EMERGENCY/OPD'].value_counts())\n",
        "print(df['OUTCOME'].value_counts())\n",
        "\n",
        "df.columns"
      ],
      "metadata": {
        "colab": {
          "base_uri": "https://localhost:8080/"
        },
        "id": "3MxYKfdw0XDR",
        "outputId": "b0245107-b8f7-4c04-d7a7-873c95ba6ee6"
      },
      "execution_count": 268,
      "outputs": [
        {
          "output_type": "stream",
          "name": "stdout",
          "text": [
            "1    12077\n",
            "0     3680\n",
            "Name: RURAL, dtype: int64\n",
            "0    10924\n",
            "1     4833\n",
            "Name: TYPE OF ADMISSION-EMERGENCY/OPD, dtype: int64\n",
            "0    13756\n",
            "1     1105\n",
            "2      896\n",
            "Name: OUTCOME, dtype: int64\n"
          ]
        },
        {
          "output_type": "execute_result",
          "data": {
            "text/plain": [
              "Index(['AGE', 'GENDER', 'RURAL', 'TYPE OF ADMISSION-EMERGENCY/OPD',\n",
              "       'DURATION OF STAY', 'duration of intensive unit stay', 'OUTCOME',\n",
              "       'SMOKING ', 'ALCOHOL', 'DM', 'HTN', 'CAD', 'PRIOR CMP', 'CKD', 'HB',\n",
              "       'TLC', 'PLATELETS', 'GLUCOSE', 'UREA', 'CREATININE', 'BNP',\n",
              "       'RAISED CARDIAC ENZYMES', 'EF', 'SEVERE ANAEMIA', 'ANAEMIA',\n",
              "       'STABLE ANGINA', 'ACS', 'STEMI', 'ATYPICAL CHEST PAIN', 'HEART FAILURE',\n",
              "       'HFREF', 'HFNEF', 'VALVULAR', 'CHB', 'SSS', 'AKI', 'CVA INFRACT',\n",
              "       'CVA BLEED', 'AF', 'VT', 'PSVT', 'CONGENITAL', 'UTI',\n",
              "       'NEURO CARDIOGENIC SYNCOPE', 'ORTHOSTATIC', 'INFECTIVE ENDOCARDITIS',\n",
              "       'DVT', 'CARDIOGENIC SHOCK', 'SHOCK', 'PULMONARY EMBOLISM',\n",
              "       'CHEST INFECTION'],\n",
              "      dtype='object')"
            ]
          },
          "metadata": {},
          "execution_count": 268
        }
      ]
    },
    {
      "cell_type": "code",
      "source": [
        "df.info()"
      ],
      "metadata": {
        "colab": {
          "base_uri": "https://localhost:8080/"
        },
        "id": "0HgPPHax0sFa",
        "outputId": "fd2f8838-cdb6-45ab-cdb6-810dd2b92cea"
      },
      "execution_count": 269,
      "outputs": [
        {
          "output_type": "stream",
          "name": "stdout",
          "text": [
            "<class 'pandas.core.frame.DataFrame'>\n",
            "RangeIndex: 15757 entries, 0 to 15756\n",
            "Data columns (total 51 columns):\n",
            " #   Column                           Non-Null Count  Dtype \n",
            "---  ------                           --------------  ----- \n",
            " 0   AGE                              15757 non-null  int64 \n",
            " 1   GENDER                           15757 non-null  object\n",
            " 2   RURAL                            15757 non-null  object\n",
            " 3   TYPE OF ADMISSION-EMERGENCY/OPD  15757 non-null  object\n",
            " 4   DURATION OF STAY                 15757 non-null  int64 \n",
            " 5   duration of intensive unit stay  15757 non-null  int64 \n",
            " 6   OUTCOME                          15757 non-null  object\n",
            " 7   SMOKING                          15757 non-null  int64 \n",
            " 8   ALCOHOL                          15757 non-null  int64 \n",
            " 9   DM                               15757 non-null  int64 \n",
            " 10  HTN                              15757 non-null  int64 \n",
            " 11  CAD                              15757 non-null  int64 \n",
            " 12  PRIOR CMP                        15757 non-null  int64 \n",
            " 13  CKD                              15757 non-null  int64 \n",
            " 14  HB                               15505 non-null  object\n",
            " 15  TLC                              15471 non-null  object\n",
            " 16  PLATELETS                        15472 non-null  object\n",
            " 17  GLUCOSE                          14894 non-null  object\n",
            " 18  UREA                             15516 non-null  object\n",
            " 19  CREATININE                       15510 non-null  object\n",
            " 20  BNP                              7316 non-null   object\n",
            " 21  RAISED CARDIAC ENZYMES           15757 non-null  int64 \n",
            " 22  EF                               14252 non-null  object\n",
            " 23  SEVERE ANAEMIA                   15757 non-null  int64 \n",
            " 24  ANAEMIA                          15757 non-null  int64 \n",
            " 25  STABLE ANGINA                    15757 non-null  int64 \n",
            " 26  ACS                              15757 non-null  int64 \n",
            " 27  STEMI                            15757 non-null  int64 \n",
            " 28  ATYPICAL CHEST PAIN              15757 non-null  int64 \n",
            " 29  HEART FAILURE                    15757 non-null  int64 \n",
            " 30  HFREF                            15757 non-null  int64 \n",
            " 31  HFNEF                            15757 non-null  int64 \n",
            " 32  VALVULAR                         15757 non-null  int64 \n",
            " 33  CHB                              15757 non-null  int64 \n",
            " 34  SSS                              15757 non-null  int64 \n",
            " 35  AKI                              15757 non-null  int64 \n",
            " 36  CVA INFRACT                      15757 non-null  int64 \n",
            " 37  CVA BLEED                        15757 non-null  int64 \n",
            " 38  AF                               15757 non-null  int64 \n",
            " 39  VT                               15757 non-null  int64 \n",
            " 40  PSVT                             15757 non-null  int64 \n",
            " 41  CONGENITAL                       15757 non-null  int64 \n",
            " 42  UTI                              15757 non-null  int64 \n",
            " 43  NEURO CARDIOGENIC SYNCOPE        15757 non-null  int64 \n",
            " 44  ORTHOSTATIC                      15757 non-null  int64 \n",
            " 45  INFECTIVE ENDOCARDITIS           15757 non-null  int64 \n",
            " 46  DVT                              15757 non-null  int64 \n",
            " 47  CARDIOGENIC SHOCK                15757 non-null  int64 \n",
            " 48  SHOCK                            15757 non-null  int64 \n",
            " 49  PULMONARY EMBOLISM               15757 non-null  int64 \n",
            " 50  CHEST INFECTION                  15757 non-null  object\n",
            "dtypes: int64(38), object(13)\n",
            "memory usage: 6.1+ MB\n"
          ]
        }
      ]
    },
    {
      "cell_type": "code",
      "source": [
        "df.isnull().sum()"
      ],
      "metadata": {
        "colab": {
          "base_uri": "https://localhost:8080/"
        },
        "id": "HKeYRljA086J",
        "outputId": "c1a66d25-a566-4727-bf15-11f776191c7b"
      },
      "execution_count": 270,
      "outputs": [
        {
          "output_type": "execute_result",
          "data": {
            "text/plain": [
              "AGE                                   0\n",
              "GENDER                                0\n",
              "RURAL                                 0\n",
              "TYPE OF ADMISSION-EMERGENCY/OPD       0\n",
              "DURATION OF STAY                      0\n",
              "duration of intensive unit stay       0\n",
              "OUTCOME                               0\n",
              "SMOKING                               0\n",
              "ALCOHOL                               0\n",
              "DM                                    0\n",
              "HTN                                   0\n",
              "CAD                                   0\n",
              "PRIOR CMP                             0\n",
              "CKD                                   0\n",
              "HB                                  252\n",
              "TLC                                 286\n",
              "PLATELETS                           285\n",
              "GLUCOSE                             863\n",
              "UREA                                241\n",
              "CREATININE                          247\n",
              "BNP                                8441\n",
              "RAISED CARDIAC ENZYMES                0\n",
              "EF                                 1505\n",
              "SEVERE ANAEMIA                        0\n",
              "ANAEMIA                               0\n",
              "STABLE ANGINA                         0\n",
              "ACS                                   0\n",
              "STEMI                                 0\n",
              "ATYPICAL CHEST PAIN                   0\n",
              "HEART FAILURE                         0\n",
              "HFREF                                 0\n",
              "HFNEF                                 0\n",
              "VALVULAR                              0\n",
              "CHB                                   0\n",
              "SSS                                   0\n",
              "AKI                                   0\n",
              "CVA INFRACT                           0\n",
              "CVA BLEED                             0\n",
              "AF                                    0\n",
              "VT                                    0\n",
              "PSVT                                  0\n",
              "CONGENITAL                            0\n",
              "UTI                                   0\n",
              "NEURO CARDIOGENIC SYNCOPE             0\n",
              "ORTHOSTATIC                           0\n",
              "INFECTIVE ENDOCARDITIS                0\n",
              "DVT                                   0\n",
              "CARDIOGENIC SHOCK                     0\n",
              "SHOCK                                 0\n",
              "PULMONARY EMBOLISM                    0\n",
              "CHEST INFECTION                       0\n",
              "dtype: int64"
            ]
          },
          "metadata": {},
          "execution_count": 270
        }
      ]
    },
    {
      "cell_type": "code",
      "source": [
        "df.dropna(inplace = True)\n",
        "print(df)"
      ],
      "metadata": {
        "colab": {
          "base_uri": "https://localhost:8080/"
        },
        "id": "suQRoRCe1GR7",
        "outputId": "4b8be8b7-72dc-4b7c-a50b-70933aaf7081"
      },
      "execution_count": 271,
      "outputs": [
        {
          "output_type": "stream",
          "name": "stdout",
          "text": [
            "       AGE GENDER RURAL TYPE OF ADMISSION-EMERGENCY/OPD  DURATION OF STAY  \\\n",
            "0       81      1     0                               0                 3   \n",
            "4       60      0     1                               0                23   \n",
            "5       44      1     1                               0                10   \n",
            "6       56      0     1                               0                 6   \n",
            "10      52      1     1                               0                15   \n",
            "...    ...    ...   ...                             ...               ...   \n",
            "15752   86      0     1                               1                 5   \n",
            "15753   50      1     0                               0                 2   \n",
            "15754   82      1     1                               0                10   \n",
            "15755   59      0     1                               1                 4   \n",
            "15756   59      0     1                               1                 4   \n",
            "\n",
            "       duration of intensive unit stay OUTCOME  SMOKING   ALCOHOL  DM  ...  \\\n",
            "0                                    2       0         0        0   1  ...   \n",
            "4                                    9       0         0        0   0  ...   \n",
            "5                                    8       0         0        0   1  ...   \n",
            "6                                    2       0         0        0   1  ...   \n",
            "10                                  11       1         0        0   1  ...   \n",
            "...                                ...     ...       ...      ...  ..  ...   \n",
            "15752                                1       0         0        0   1  ...   \n",
            "15753                                2       1         0        0   1  ...   \n",
            "15754                                5       0         0        0   0  ...   \n",
            "15755                                2       0         0        0   0  ...   \n",
            "15756                                2       0         0        0   0  ...   \n",
            "\n",
            "       CONGENITAL  UTI  NEURO CARDIOGENIC SYNCOPE  ORTHOSTATIC  \\\n",
            "0               0    0                          0            0   \n",
            "4               0    0                          0            0   \n",
            "5               0    0                          0            0   \n",
            "6               0    0                          0            0   \n",
            "10              0    0                          0            0   \n",
            "...           ...  ...                        ...          ...   \n",
            "15752           0    0                          0            0   \n",
            "15753           0    0                          0            0   \n",
            "15754           0    0                          0            0   \n",
            "15755           0    0                          0            0   \n",
            "15756           0    0                          0            0   \n",
            "\n",
            "      INFECTIVE ENDOCARDITIS DVT CARDIOGENIC SHOCK SHOCK PULMONARY EMBOLISM  \\\n",
            "0                          0   0                 0     0                  0   \n",
            "4                          0   0                 0     0                  0   \n",
            "5                          0   0                 0     0                  0   \n",
            "6                          0   0                 0     0                  0   \n",
            "10                         0   0                 1     1                  0   \n",
            "...                      ...  ..               ...   ...                ...   \n",
            "15752                      0   0                 0     0                  0   \n",
            "15753                      0   0                 0     0                  0   \n",
            "15754                      0   0                 0     0                  0   \n",
            "15755                      0   0                 0     0                  0   \n",
            "15756                      0   0                 0     0                  0   \n",
            "\n",
            "      CHEST INFECTION  \n",
            "0                   0  \n",
            "4                   0  \n",
            "5                   0  \n",
            "6                   0  \n",
            "10                  0  \n",
            "...               ...  \n",
            "15752               0  \n",
            "15753               0  \n",
            "15754               0  \n",
            "15755               0  \n",
            "15756               0  \n",
            "\n",
            "[6561 rows x 51 columns]\n"
          ]
        }
      ]
    },
    {
      "cell_type": "code",
      "source": [
        "# Define the step function used by the perceptron\n",
        "def step_function(t):\n",
        "    if t >= 0:\n",
        "        return 1\n",
        "    return 0\n",
        "\n",
        "# Define the perceptron training function\n",
        "def perceptron(X, y, epochs):\n",
        "    w = np.zeros(X.shape[1])\n",
        "    b = 0\n",
        "    for epoch in range(epochs):\n",
        "        for i in range(X.shape[0]):\n",
        "            y_pred = step_function(np.dot(X[i], w) + b)\n",
        "            if y_pred != y[i]:\n",
        "                w += y[i] * X[i]\n",
        "                b += y[i]\n",
        "    return w, b"
      ],
      "metadata": {
        "id": "Z66tVbNs4JJa"
      },
      "execution_count": 272,
      "outputs": []
    },
    {
      "cell_type": "code",
      "source": [
        "\n",
        "\n",
        "# create a dictionary to map the 'TYPE OF ADMISSION-EMERGENCY/OPD' column\n",
        "emergency_map = {'EMERGENCY': 1, 'URGENT': 2, 'ELECTIVE': 3}\n",
        "\n",
        "print(emergency_map )\n",
        "\n",
        "\n"
      ],
      "metadata": {
        "colab": {
          "base_uri": "https://localhost:8080/"
        },
        "id": "hXDi_6MI5l2X",
        "outputId": "e48f5c58-381c-4867-b96b-597feac60ef8"
      },
      "execution_count": 273,
      "outputs": [
        {
          "output_type": "stream",
          "name": "stdout",
          "text": [
            "{'EMERGENCY': 1, 'URGENT': 2, 'ELECTIVE': 3}\n"
          ]
        }
      ]
    },
    {
      "cell_type": "code",
      "source": [
        "df.select_dtypes(include=['object'])\n",
        "print(df.info())\n",
        "\n",
        "from sklearn.preprocessing import LabelEncoder\n",
        "\n",
        "# crea un'istanza del LabelEncoder\n",
        "le = LabelEncoder()\n",
        "\n",
        "# lista delle colonne che contengono valori stringa\n",
        "str_cols = ['GENDER', 'RURAL', 'TYPE OF ADMISSION-EMERGENCY/OPD', 'OUTCOME', 'HB', 'TLC', 'PLATELETS', 'GLUCOSE', 'UREA', 'CREATININE', 'BNP', 'EF', 'CHEST INFECTION']\n",
        "\n",
        "# applica il LabelEncoder alle colonne selezionate\n",
        "for col in str_cols:\n",
        "    df[col] = le.fit_transform(df[col])\n"
      ],
      "metadata": {
        "colab": {
          "base_uri": "https://localhost:8080/"
        },
        "id": "7EEWY9RH-qnG",
        "outputId": "42745bd4-bdcc-418e-ba4e-b22cfc5fbc9f"
      },
      "execution_count": 274,
      "outputs": [
        {
          "output_type": "stream",
          "name": "stdout",
          "text": [
            "<class 'pandas.core.frame.DataFrame'>\n",
            "Int64Index: 6561 entries, 0 to 15756\n",
            "Data columns (total 51 columns):\n",
            " #   Column                           Non-Null Count  Dtype \n",
            "---  ------                           --------------  ----- \n",
            " 0   AGE                              6561 non-null   int64 \n",
            " 1   GENDER                           6561 non-null   object\n",
            " 2   RURAL                            6561 non-null   object\n",
            " 3   TYPE OF ADMISSION-EMERGENCY/OPD  6561 non-null   object\n",
            " 4   DURATION OF STAY                 6561 non-null   int64 \n",
            " 5   duration of intensive unit stay  6561 non-null   int64 \n",
            " 6   OUTCOME                          6561 non-null   object\n",
            " 7   SMOKING                          6561 non-null   int64 \n",
            " 8   ALCOHOL                          6561 non-null   int64 \n",
            " 9   DM                               6561 non-null   int64 \n",
            " 10  HTN                              6561 non-null   int64 \n",
            " 11  CAD                              6561 non-null   int64 \n",
            " 12  PRIOR CMP                        6561 non-null   int64 \n",
            " 13  CKD                              6561 non-null   int64 \n",
            " 14  HB                               6561 non-null   object\n",
            " 15  TLC                              6561 non-null   object\n",
            " 16  PLATELETS                        6561 non-null   object\n",
            " 17  GLUCOSE                          6561 non-null   object\n",
            " 18  UREA                             6561 non-null   object\n",
            " 19  CREATININE                       6561 non-null   object\n",
            " 20  BNP                              6561 non-null   object\n",
            " 21  RAISED CARDIAC ENZYMES           6561 non-null   int64 \n",
            " 22  EF                               6561 non-null   object\n",
            " 23  SEVERE ANAEMIA                   6561 non-null   int64 \n",
            " 24  ANAEMIA                          6561 non-null   int64 \n",
            " 25  STABLE ANGINA                    6561 non-null   int64 \n",
            " 26  ACS                              6561 non-null   int64 \n",
            " 27  STEMI                            6561 non-null   int64 \n",
            " 28  ATYPICAL CHEST PAIN              6561 non-null   int64 \n",
            " 29  HEART FAILURE                    6561 non-null   int64 \n",
            " 30  HFREF                            6561 non-null   int64 \n",
            " 31  HFNEF                            6561 non-null   int64 \n",
            " 32  VALVULAR                         6561 non-null   int64 \n",
            " 33  CHB                              6561 non-null   int64 \n",
            " 34  SSS                              6561 non-null   int64 \n",
            " 35  AKI                              6561 non-null   int64 \n",
            " 36  CVA INFRACT                      6561 non-null   int64 \n",
            " 37  CVA BLEED                        6561 non-null   int64 \n",
            " 38  AF                               6561 non-null   int64 \n",
            " 39  VT                               6561 non-null   int64 \n",
            " 40  PSVT                             6561 non-null   int64 \n",
            " 41  CONGENITAL                       6561 non-null   int64 \n",
            " 42  UTI                              6561 non-null   int64 \n",
            " 43  NEURO CARDIOGENIC SYNCOPE        6561 non-null   int64 \n",
            " 44  ORTHOSTATIC                      6561 non-null   int64 \n",
            " 45  INFECTIVE ENDOCARDITIS           6561 non-null   int64 \n",
            " 46  DVT                              6561 non-null   int64 \n",
            " 47  CARDIOGENIC SHOCK                6561 non-null   int64 \n",
            " 48  SHOCK                            6561 non-null   int64 \n",
            " 49  PULMONARY EMBOLISM               6561 non-null   int64 \n",
            " 50  CHEST INFECTION                  6561 non-null   object\n",
            "dtypes: int64(38), object(13)\n",
            "memory usage: 2.6+ MB\n",
            "None\n"
          ]
        }
      ]
    },
    {
      "cell_type": "code",
      "source": [
        "\n",
        "df.dropna(inplace=True)\n",
        "\n",
        "# Split the data into training and testing sets\n",
        "X = df.drop('TYPE OF ADMISSION-EMERGENCY/OPD', axis=1)\n",
        "y = df['TYPE OF ADMISSION-EMERGENCY/OPD']\n",
        "X_train, X_test, y_train, y_test = train_test_split(X, y, test_size=0.2, random_state=42)\n",
        "\n",
        "# Scale the data\n",
        "scaler = StandardScaler()\n",
        "X_train_scaled = scaler.fit_transform(X_train)\n",
        "X_test_scaled = scaler.transform(X_test)\n",
        "\n",
        "# Build the MLP model\n",
        "model = Sequential()\n",
        "model.add(Dense(units=64, activation='relu', input_dim=X_train.shape[1]))\n",
        "model.add(Dense(units=32, activation='relu'))\n",
        "model.add(Dense(units=3, activation='softmax'))\n",
        "\n",
        "# Compile the model\n",
        "model.compile(loss='sparse_categorical_crossentropy', optimizer='adam', metrics=['accuracy'])\n",
        "\n",
        "# Train the model\n",
        "history = model.fit(X_train_scaled, y_train, epochs=50, validation_split=0.2, verbose=1)\n",
        "\n",
        "# Evaluate the model on the test set\n",
        "score = model.evaluate(X_test_scaled, y_test, verbose=0)\n",
        "print(f'Test loss: {score[0]}')\n",
        "print(f'Test accuracy: {score[1]}')\n"
      ],
      "metadata": {
        "colab": {
          "base_uri": "https://localhost:8080/"
        },
        "id": "fwmAHR8B9Rwv",
        "outputId": "dc70d19c-759b-4c5b-d64d-2c55811699f0"
      },
      "execution_count": 275,
      "outputs": [
        {
          "output_type": "stream",
          "name": "stdout",
          "text": [
            "Epoch 1/50\n",
            "132/132 [==============================] - 1s 5ms/step - loss: 0.6582 - accuracy: 0.7161 - val_loss: 0.4781 - val_accuracy: 0.8124\n",
            "Epoch 2/50\n",
            "132/132 [==============================] - 0s 3ms/step - loss: 0.4924 - accuracy: 0.7758 - val_loss: 0.4411 - val_accuracy: 0.8238\n",
            "Epoch 3/50\n",
            "132/132 [==============================] - 0s 3ms/step - loss: 0.4680 - accuracy: 0.7897 - val_loss: 0.4368 - val_accuracy: 0.8238\n",
            "Epoch 4/50\n",
            "132/132 [==============================] - 0s 2ms/step - loss: 0.4512 - accuracy: 0.8006 - val_loss: 0.4282 - val_accuracy: 0.8295\n",
            "Epoch 5/50\n",
            "132/132 [==============================] - 0s 2ms/step - loss: 0.4374 - accuracy: 0.8071 - val_loss: 0.4240 - val_accuracy: 0.8210\n",
            "Epoch 6/50\n",
            "132/132 [==============================] - 0s 2ms/step - loss: 0.4237 - accuracy: 0.8147 - val_loss: 0.4150 - val_accuracy: 0.8295\n",
            "Epoch 7/50\n",
            "132/132 [==============================] - 0s 3ms/step - loss: 0.4149 - accuracy: 0.8180 - val_loss: 0.4295 - val_accuracy: 0.8143\n",
            "Epoch 8/50\n",
            "132/132 [==============================] - 0s 3ms/step - loss: 0.4011 - accuracy: 0.8256 - val_loss: 0.4216 - val_accuracy: 0.8257\n",
            "Epoch 9/50\n",
            "132/132 [==============================] - 0s 3ms/step - loss: 0.3882 - accuracy: 0.8292 - val_loss: 0.4229 - val_accuracy: 0.8257\n",
            "Epoch 10/50\n",
            "132/132 [==============================] - 0s 3ms/step - loss: 0.3768 - accuracy: 0.8321 - val_loss: 0.4387 - val_accuracy: 0.7990\n",
            "Epoch 11/50\n",
            "132/132 [==============================] - 0s 3ms/step - loss: 0.3629 - accuracy: 0.8428 - val_loss: 0.4296 - val_accuracy: 0.8143\n",
            "Epoch 12/50\n",
            "132/132 [==============================] - 0s 3ms/step - loss: 0.3517 - accuracy: 0.8497 - val_loss: 0.4462 - val_accuracy: 0.8086\n",
            "Epoch 13/50\n",
            "132/132 [==============================] - 0s 3ms/step - loss: 0.3422 - accuracy: 0.8552 - val_loss: 0.4651 - val_accuracy: 0.7714\n",
            "Epoch 14/50\n",
            "132/132 [==============================] - 0s 3ms/step - loss: 0.3316 - accuracy: 0.8604 - val_loss: 0.4482 - val_accuracy: 0.8095\n",
            "Epoch 15/50\n",
            "132/132 [==============================] - 0s 3ms/step - loss: 0.3231 - accuracy: 0.8602 - val_loss: 0.4540 - val_accuracy: 0.8095\n",
            "Epoch 16/50\n",
            "132/132 [==============================] - 0s 3ms/step - loss: 0.3108 - accuracy: 0.8702 - val_loss: 0.4635 - val_accuracy: 0.7952\n",
            "Epoch 17/50\n",
            "132/132 [==============================] - 1s 5ms/step - loss: 0.2998 - accuracy: 0.8749 - val_loss: 0.4783 - val_accuracy: 0.7857\n",
            "Epoch 18/50\n",
            "132/132 [==============================] - 1s 4ms/step - loss: 0.2903 - accuracy: 0.8814 - val_loss: 0.4808 - val_accuracy: 0.7876\n",
            "Epoch 19/50\n",
            "132/132 [==============================] - 1s 4ms/step - loss: 0.2822 - accuracy: 0.8857 - val_loss: 0.4761 - val_accuracy: 0.8048\n",
            "Epoch 20/50\n",
            "132/132 [==============================] - 1s 5ms/step - loss: 0.2730 - accuracy: 0.8919 - val_loss: 0.4773 - val_accuracy: 0.8010\n",
            "Epoch 21/50\n",
            "132/132 [==============================] - 1s 5ms/step - loss: 0.2624 - accuracy: 0.8969 - val_loss: 0.4923 - val_accuracy: 0.8067\n",
            "Epoch 22/50\n",
            "132/132 [==============================] - 1s 4ms/step - loss: 0.2517 - accuracy: 0.9038 - val_loss: 0.5054 - val_accuracy: 0.7924\n",
            "Epoch 23/50\n",
            "132/132 [==============================] - 1s 5ms/step - loss: 0.2433 - accuracy: 0.9030 - val_loss: 0.5148 - val_accuracy: 0.7943\n",
            "Epoch 24/50\n",
            "132/132 [==============================] - 1s 4ms/step - loss: 0.2359 - accuracy: 0.9092 - val_loss: 0.5180 - val_accuracy: 0.7943\n",
            "Epoch 25/50\n",
            "132/132 [==============================] - 0s 3ms/step - loss: 0.2247 - accuracy: 0.9116 - val_loss: 0.5383 - val_accuracy: 0.7838\n",
            "Epoch 26/50\n",
            "132/132 [==============================] - 0s 3ms/step - loss: 0.2165 - accuracy: 0.9195 - val_loss: 0.5272 - val_accuracy: 0.8086\n",
            "Epoch 27/50\n",
            "132/132 [==============================] - 0s 3ms/step - loss: 0.2075 - accuracy: 0.9242 - val_loss: 0.5478 - val_accuracy: 0.8000\n",
            "Epoch 28/50\n",
            "132/132 [==============================] - 0s 3ms/step - loss: 0.2021 - accuracy: 0.9233 - val_loss: 0.5425 - val_accuracy: 0.7990\n",
            "Epoch 29/50\n",
            "132/132 [==============================] - 0s 2ms/step - loss: 0.1962 - accuracy: 0.9283 - val_loss: 0.5637 - val_accuracy: 0.8000\n",
            "Epoch 30/50\n",
            "132/132 [==============================] - 0s 3ms/step - loss: 0.1864 - accuracy: 0.9347 - val_loss: 0.5717 - val_accuracy: 0.7990\n",
            "Epoch 31/50\n",
            "132/132 [==============================] - 0s 3ms/step - loss: 0.1813 - accuracy: 0.9357 - val_loss: 0.5842 - val_accuracy: 0.7933\n",
            "Epoch 32/50\n",
            "132/132 [==============================] - 0s 3ms/step - loss: 0.1732 - accuracy: 0.9359 - val_loss: 0.6144 - val_accuracy: 0.7705\n",
            "Epoch 33/50\n",
            "132/132 [==============================] - 0s 3ms/step - loss: 0.1659 - accuracy: 0.9431 - val_loss: 0.6147 - val_accuracy: 0.7810\n",
            "Epoch 34/50\n",
            "132/132 [==============================] - 0s 3ms/step - loss: 0.1629 - accuracy: 0.9426 - val_loss: 0.6352 - val_accuracy: 0.7800\n",
            "Epoch 35/50\n",
            "132/132 [==============================] - 0s 3ms/step - loss: 0.1521 - accuracy: 0.9485 - val_loss: 0.6194 - val_accuracy: 0.7886\n",
            "Epoch 36/50\n",
            "132/132 [==============================] - 0s 3ms/step - loss: 0.1527 - accuracy: 0.9433 - val_loss: 0.6536 - val_accuracy: 0.7752\n",
            "Epoch 37/50\n",
            "132/132 [==============================] - 0s 3ms/step - loss: 0.1446 - accuracy: 0.9476 - val_loss: 0.6584 - val_accuracy: 0.8010\n",
            "Epoch 38/50\n",
            "132/132 [==============================] - 0s 3ms/step - loss: 0.1372 - accuracy: 0.9533 - val_loss: 0.6697 - val_accuracy: 0.7933\n",
            "Epoch 39/50\n",
            "132/132 [==============================] - 0s 3ms/step - loss: 0.1334 - accuracy: 0.9528 - val_loss: 0.6953 - val_accuracy: 0.7733\n",
            "Epoch 40/50\n",
            "132/132 [==============================] - 0s 3ms/step - loss: 0.1244 - accuracy: 0.9588 - val_loss: 0.7065 - val_accuracy: 0.7733\n",
            "Epoch 41/50\n",
            "132/132 [==============================] - 0s 3ms/step - loss: 0.1185 - accuracy: 0.9638 - val_loss: 0.7112 - val_accuracy: 0.8038\n",
            "Epoch 42/50\n",
            "132/132 [==============================] - 0s 3ms/step - loss: 0.1174 - accuracy: 0.9612 - val_loss: 0.7400 - val_accuracy: 0.7810\n",
            "Epoch 43/50\n",
            "132/132 [==============================] - 0s 3ms/step - loss: 0.1112 - accuracy: 0.9664 - val_loss: 0.7450 - val_accuracy: 0.7905\n",
            "Epoch 44/50\n",
            "132/132 [==============================] - 0s 4ms/step - loss: 0.1074 - accuracy: 0.9662 - val_loss: 0.7537 - val_accuracy: 0.7905\n",
            "Epoch 45/50\n",
            "132/132 [==============================] - 0s 3ms/step - loss: 0.1038 - accuracy: 0.9669 - val_loss: 0.8008 - val_accuracy: 0.7781\n",
            "Epoch 46/50\n",
            "132/132 [==============================] - 0s 2ms/step - loss: 0.0996 - accuracy: 0.9693 - val_loss: 0.8186 - val_accuracy: 0.7714\n",
            "Epoch 47/50\n",
            "132/132 [==============================] - 0s 2ms/step - loss: 0.0935 - accuracy: 0.9709 - val_loss: 0.8251 - val_accuracy: 0.7724\n",
            "Epoch 48/50\n",
            "132/132 [==============================] - 0s 3ms/step - loss: 0.0956 - accuracy: 0.9717 - val_loss: 0.8527 - val_accuracy: 0.7857\n",
            "Epoch 49/50\n",
            "132/132 [==============================] - 0s 3ms/step - loss: 0.0934 - accuracy: 0.9705 - val_loss: 0.8463 - val_accuracy: 0.7771\n",
            "Epoch 50/50\n",
            "132/132 [==============================] - 1s 4ms/step - loss: 0.0876 - accuracy: 0.9719 - val_loss: 0.8445 - val_accuracy: 0.7971\n",
            "Test loss: 0.9458850026130676\n",
            "Test accuracy: 0.7821782231330872\n"
          ]
        }
      ]
    },
    {
      "cell_type": "code",
      "source": [
        "# Evaluate the model on the test set and get the predictions\n",
        "y_pred = model.predict(X_test_scaled)\n",
        "\n",
        "# Get the predicted classes for each sample\n",
        "y_pred_classes = np.argmax(y_pred, axis=1)\n",
        "\n",
        "# Print the predicted classes for the first 10 samples\n",
        "print(\"Predicted classes:\")\n",
        "print(y_pred_classes[:100])\n"
      ],
      "metadata": {
        "colab": {
          "base_uri": "https://localhost:8080/"
        },
        "id": "5mWMWlJDEfkt",
        "outputId": "d91cf265-1158-4d70-a060-f65637b6802f"
      },
      "execution_count": 276,
      "outputs": [
        {
          "output_type": "stream",
          "name": "stdout",
          "text": [
            "42/42 [==============================] - 0s 2ms/step\n",
            "Predicted classes:\n",
            "[0 1 0 0 0 0 0 1 0 0 0 0 0 0 0 0 0 0 0 0 0 0 0 0 0 0 0 0 0 0 0 0 1 0 1 0 1\n",
            " 0 0 0 0 0 0 0 0 0 0 0 0 0 0 0 0 0 1 1 0 0 0 0 0 0 1 1 0 0 0 0 0 0 0 1 0 0\n",
            " 1 0 1 0 0 0 0 0 0 0 0 1 0 0 0 0 0 0 0 0 1 1 0 0 1 0]\n"
          ]
        }
      ]
    },
    {
      "cell_type": "code",
      "source": [
        "# Get the predicted classes for each sample\n",
        "y_pred_classes = np.argmax(y_pred, axis=1)\n",
        "\n",
        "# Print the predicted classes for the first 10 samples\n",
        "print(\"Predicted classes:\")\n",
        "for i in range(10):\n",
        "    print(f\"Sample {i}:\")\n",
        "    if y_pred_classes[i] == 0:\n",
        "        print(\"Class: Emergenza\")\n",
        "    elif y_pred_classes[i] == 1:\n",
        "        print(\"Class: Urgente\")\n",
        "    else:\n",
        "        print(\"Class: Elettivo\")\n",
        "\n",
        "\n"
      ],
      "metadata": {
        "colab": {
          "base_uri": "https://localhost:8080/"
        },
        "id": "6K7hi9LlFkjB",
        "outputId": "0b8ac3dc-9d0e-40c5-bf38-16eb4aa72f9c"
      },
      "execution_count": 278,
      "outputs": [
        {
          "output_type": "stream",
          "name": "stdout",
          "text": [
            "Predicted classes:\n",
            "Sample 0:\n",
            "Class: Emergenza\n",
            "Sample 1:\n",
            "Class: Urgente\n",
            "Sample 2:\n",
            "Class: Emergenza\n",
            "Sample 3:\n",
            "Class: Emergenza\n",
            "Sample 4:\n",
            "Class: Emergenza\n",
            "Sample 5:\n",
            "Class: Emergenza\n",
            "Sample 6:\n",
            "Class: Emergenza\n",
            "Sample 7:\n",
            "Class: Urgente\n",
            "Sample 8:\n",
            "Class: Emergenza\n",
            "Sample 9:\n",
            "Class: Emergenza\n"
          ]
        }
      ]
    }
  ],
  "metadata": {
    "colab": {
      "provenance": [],
      "authorship_tag": "ABX9TyPKGkrWBlENBtkLZWdtjoVD",
      "include_colab_link": true
    },
    "kernelspec": {
      "display_name": "Python 3",
      "name": "python3"
    },
    "language_info": {
      "name": "python"
    }
  },
  "nbformat": 4,
  "nbformat_minor": 0
}